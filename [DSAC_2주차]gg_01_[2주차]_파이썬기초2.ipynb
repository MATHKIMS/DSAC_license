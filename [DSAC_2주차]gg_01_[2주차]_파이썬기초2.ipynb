{
  "nbformat": 4,
  "nbformat_minor": 0,
  "metadata": {
    "colab": {
      "provenance": [],
      "authorship_tag": "ABX9TyOLtLdepKTCbM98wkRGtWv/",
      "include_colab_link": true
    },
    "kernelspec": {
      "name": "python3",
      "display_name": "Python 3"
    },
    "language_info": {
      "name": "python"
    }
  },
  "cells": [
    {
      "cell_type": "markdown",
      "metadata": {
        "id": "view-in-github",
        "colab_type": "text"
      },
      "source": [
        "<a href=\"https://colab.research.google.com/github/MATHKIMS/DSAC_license/blob/main/%5BDSAC_2%EC%A3%BC%EC%B0%A8%5Dgg_01_%5B2%EC%A3%BC%EC%B0%A8%5D_%ED%8C%8C%EC%9D%B4%EC%8D%AC%EA%B8%B0%EC%B4%882.ipynb\" target=\"_parent\"><img src=\"https://colab.research.google.com/assets/colab-badge.svg\" alt=\"Open In Colab\"/></a>"
      ]
    },
    {
      "cell_type": "code",
      "execution_count": null,
      "metadata": {
        "colab": {
          "base_uri": "https://localhost:8080/"
        },
        "id": "B5iX7hnXddxI",
        "outputId": "4f327969-7f29-4653-85f7-12fc7a730705"
      },
      "outputs": [
        {
          "output_type": "execute_result",
          "data": {
            "text/plain": [
              "range(10, 20, 2)"
            ]
          },
          "metadata": {},
          "execution_count": 2
        }
      ],
      "source": [
        "x3=range(10,20,2)\n",
        "x3"
      ]
    },
    {
      "cell_type": "code",
      "source": [
        "for i in range(10,20,2):\n",
        "    print(i)\n",
        "    print(i*10)"
      ],
      "metadata": {
        "colab": {
          "base_uri": "https://localhost:8080/"
        },
        "id": "iIwv4CpnfgmJ",
        "outputId": "a56ea0e7-96b2-48d5-96e7-839b8088b308"
      },
      "execution_count": null,
      "outputs": [
        {
          "output_type": "stream",
          "name": "stdout",
          "text": [
            "10\n",
            "100\n",
            "12\n",
            "120\n",
            "14\n",
            "140\n",
            "16\n",
            "160\n",
            "18\n",
            "180\n"
          ]
        }
      ]
    },
    {
      "cell_type": "code",
      "source": [
        "range(10)"
      ],
      "metadata": {
        "colab": {
          "base_uri": "https://localhost:8080/"
        },
        "id": "upe29rYMgUYI",
        "outputId": "22bd83ca-da46-4799-d0be-78236daf52ed"
      },
      "execution_count": null,
      "outputs": [
        {
          "output_type": "execute_result",
          "data": {
            "text/plain": [
              "range(0, 10)"
            ]
          },
          "metadata": {},
          "execution_count": 5
        }
      ]
    },
    {
      "cell_type": "code",
      "source": [
        "#리스트 컴프리헨션(내부)\n",
        "[x*10 for x in range(10)]"
      ],
      "metadata": {
        "colab": {
          "base_uri": "https://localhost:8080/"
        },
        "id": "Tbklxs2IhDCA",
        "outputId": "c1bd2f1f-45bd-4d3e-cca9-b2ae3309f372"
      },
      "execution_count": null,
      "outputs": [
        {
          "output_type": "execute_result",
          "data": {
            "text/plain": [
              "[0, 10, 20, 30, 40, 50, 60, 70, 80, 90]"
            ]
          },
          "metadata": {},
          "execution_count": 8
        }
      ]
    },
    {
      "cell_type": "markdown",
      "source": [
        "# 튜플(tuple)"
      ],
      "metadata": {
        "id": "99HNiYMiipaq"
      }
    },
    {
      "cell_type": "code",
      "source": [
        "t1=(1,2,3)\n",
        "print(t1)"
      ],
      "metadata": {
        "colab": {
          "base_uri": "https://localhost:8080/"
        },
        "id": "sBKCxrT1it-B",
        "outputId": "104f990c-2010-4a2a-bd9b-5e8c37e41b3a"
      },
      "execution_count": null,
      "outputs": [
        {
          "output_type": "stream",
          "name": "stdout",
          "text": [
            "(1, 2, 3)\n"
          ]
        }
      ]
    },
    {
      "cell_type": "code",
      "source": [
        "t2=1,2,3 #괄호가 없고 , 만 있는경우는 튜플이다!\n",
        "print(t2)"
      ],
      "metadata": {
        "colab": {
          "base_uri": "https://localhost:8080/"
        },
        "id": "YV23BpMWiySr",
        "outputId": "6f5d2a0a-2b0e-4a84-c1a6-e3ca5ff6446c"
      },
      "execution_count": null,
      "outputs": [
        {
          "output_type": "stream",
          "name": "stdout",
          "text": [
            "(1, 2, 3)\n"
          ]
        }
      ]
    },
    {
      "cell_type": "code",
      "source": [
        "#주의!\n",
        "s1,s2,s3=1,2,3 # 위에 셀과는 다른 내용이다."
      ],
      "metadata": {
        "id": "y-DgH-5yjHKJ"
      },
      "execution_count": null,
      "outputs": []
    },
    {
      "cell_type": "markdown",
      "source": [
        "# 딕셔너리"
      ],
      "metadata": {
        "id": "vez0OdCdjPZo"
      }
    },
    {
      "cell_type": "code",
      "source": [
        "name_age={\"kim\":20, \"lee\":25}"
      ],
      "metadata": {
        "id": "MISBonZXjF_4"
      },
      "execution_count": null,
      "outputs": []
    },
    {
      "cell_type": "code",
      "source": [
        "name_age[\"kim\"]"
      ],
      "metadata": {
        "colab": {
          "base_uri": "https://localhost:8080/"
        },
        "id": "UfKqnauljZDv",
        "outputId": "ab030455-2f77-4595-95a1-086f34005657"
      },
      "execution_count": null,
      "outputs": [
        {
          "output_type": "execute_result",
          "data": {
            "text/plain": [
              "20"
            ]
          },
          "metadata": {},
          "execution_count": 13
        }
      ]
    },
    {
      "cell_type": "code",
      "source": [
        "print(\"kim\" in name_age)"
      ],
      "metadata": {
        "colab": {
          "base_uri": "https://localhost:8080/"
        },
        "id": "GJ6qtuqZjbeG",
        "outputId": "321ab524-391a-416b-fcf9-9c5b1a733f6f"
      },
      "execution_count": null,
      "outputs": [
        {
          "output_type": "stream",
          "name": "stdout",
          "text": [
            "True\n"
          ]
        }
      ]
    },
    {
      "cell_type": "code",
      "source": [
        "name_age[\"song\"]=35;name_age #새로운 항목추가"
      ],
      "metadata": {
        "colab": {
          "base_uri": "https://localhost:8080/"
        },
        "id": "ZAujKXsnjz8f",
        "outputId": "bace71d6-7a6d-4526-c2d9-9a2402624c05"
      },
      "execution_count": null,
      "outputs": [
        {
          "output_type": "execute_result",
          "data": {
            "text/plain": [
              "{'kim': 20, 'lee': 25, 'song': 35}"
            ]
          },
          "metadata": {},
          "execution_count": 16
        }
      ]
    },
    {
      "cell_type": "code",
      "source": [
        "name_age.keys() #딕셔너리의 키를 키를 확인하는 방법"
      ],
      "metadata": {
        "colab": {
          "base_uri": "https://localhost:8080/"
        },
        "id": "gJqNdJlhkDGn",
        "outputId": "2843b66d-f24d-46c3-c97c-15632b900803"
      },
      "execution_count": null,
      "outputs": [
        {
          "output_type": "execute_result",
          "data": {
            "text/plain": [
              "dict_keys(['kim', 'lee', 'song'])"
            ]
          },
          "metadata": {},
          "execution_count": 17
        }
      ]
    },
    {
      "cell_type": "code",
      "source": [
        "name_age.values()"
      ],
      "metadata": {
        "colab": {
          "base_uri": "https://localhost:8080/"
        },
        "id": "gK-trkoJkTfv",
        "outputId": "1c863ab1-2295-4bec-ded9-a28249feb4a6"
      },
      "execution_count": null,
      "outputs": [
        {
          "output_type": "execute_result",
          "data": {
            "text/plain": [
              "dict_values([20, 25, 35])"
            ]
          },
          "metadata": {},
          "execution_count": 19
        }
      ]
    },
    {
      "cell_type": "code",
      "source": [
        "name_age.items()"
      ],
      "metadata": {
        "colab": {
          "base_uri": "https://localhost:8080/"
        },
        "id": "wCuMJakblmGZ",
        "outputId": "68e9baf9-b97f-490c-840b-36654c3a9ef4"
      },
      "execution_count": null,
      "outputs": [
        {
          "output_type": "execute_result",
          "data": {
            "text/plain": [
              "dict_items([('kim', 20), ('lee', 25), ('song', 35)])"
            ]
          },
          "metadata": {},
          "execution_count": 21
        }
      ]
    },
    {
      "cell_type": "markdown",
      "source": [
        "# **if문**"
      ],
      "metadata": {
        "id": "Sm56wf8kkhKa"
      }
    },
    {
      "cell_type": "code",
      "source": [
        "if 조건문:\n",
        "    수행할 문장1\n",
        "    수행할 문장2\n",
        "elif 조건문:\n",
        "    수행할 문장3\n",
        "    수행할문장4\n",
        "else:\n",
        "    "
      ],
      "metadata": {
        "id": "_VYQSyC9knOz"
      },
      "execution_count": null,
      "outputs": []
    },
    {
      "cell_type": "code",
      "source": [
        "x=3\n",
        "if x>10:\n",
        "    print(\"x가 10보다 크다\")\n",
        "elif x>3:\n",
        "    print(\"x가 10보다는 작거나 같고 3보다 크다\")\n",
        "else:\n",
        "    print(\"x가 3보다 같거나 작다\")"
      ],
      "metadata": {
        "colab": {
          "base_uri": "https://localhost:8080/"
        },
        "id": "CeYZzxIRknUU",
        "outputId": "792b4a0c-b346-412f-951c-1324c6efba9d"
      },
      "execution_count": null,
      "outputs": [
        {
          "output_type": "stream",
          "name": "stdout",
          "text": [
            "x가 3보다 같거나 작다\n"
          ]
        }
      ]
    },
    {
      "cell_type": "markdown",
      "source": [
        "# for문"
      ],
      "metadata": {
        "id": "XWz4PAZhmEkh"
      }
    },
    {
      "cell_type": "markdown",
      "source": [
        "[2문장의 차이]"
      ],
      "metadata": {
        "id": "zigPIhecmtFq"
      }
    },
    {
      "cell_type": "code",
      "source": [
        "for x in (1,3,5,10):\n",
        "    print(\"i\")"
      ],
      "metadata": {
        "colab": {
          "base_uri": "https://localhost:8080/"
        },
        "id": "wEC2nke6lZsJ",
        "outputId": "f6748f65-85b6-4300-89f8-30141531b5d4"
      },
      "execution_count": null,
      "outputs": [
        {
          "output_type": "stream",
          "name": "stdout",
          "text": [
            "i\n",
            "i\n",
            "i\n",
            "i\n"
          ]
        }
      ]
    },
    {
      "cell_type": "code",
      "source": [
        "for x in (1,3,5,10):\n",
        "    print(x)"
      ],
      "metadata": {
        "colab": {
          "base_uri": "https://localhost:8080/"
        },
        "id": "gjdhRs4emWHY",
        "outputId": "a1877af6-0db7-4f8e-85df-e9cb501f20ee"
      },
      "execution_count": null,
      "outputs": [
        {
          "output_type": "stream",
          "name": "stdout",
          "text": [
            "1\n",
            "3\n",
            "5\n",
            "10\n"
          ]
        }
      ]
    },
    {
      "cell_type": "code",
      "source": [
        "for x in (1,3,5,10):\n",
        "    print(x,\"'s square=\",x*x)"
      ],
      "metadata": {
        "colab": {
          "base_uri": "https://localhost:8080/"
        },
        "id": "YR16movYmXhO",
        "outputId": "04b0ceb3-a072-4f04-e582-c6e557da7027"
      },
      "execution_count": null,
      "outputs": [
        {
          "output_type": "stream",
          "name": "stdout",
          "text": [
            "1 's square= 1\n",
            "3 's square= 9\n",
            "5 's square= 25\n",
            "10 's square= 100\n"
          ]
        }
      ]
    },
    {
      "cell_type": "code",
      "source": [],
      "metadata": {
        "id": "_YD44swFmqPP"
      },
      "execution_count": null,
      "outputs": []
    }
  ]
}